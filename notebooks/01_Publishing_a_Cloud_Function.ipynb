{
  "nbformat": 4,
  "nbformat_minor": 0,
  "metadata": {
    "colab": {
      "provenance": []
    },
    "kernelspec": {
      "name": "python3",
      "display_name": "Python 3"
    },
    "language_info": {
      "name": "python"
    }
  },
  "cells": [
    {
      "cell_type": "code",
      "metadata": {
        "id": "fSIfBsgi8dNK"
      },
      "source": [
        "#@title Copyright 2024 Google LLC. { display-mode: \"form\" }\n",
        "# Licensed under the Apache License, Version 2.0 (the \"License\");\n",
        "# you may not use this file except in compliance with the License.\n",
        "# You may obtain a copy of the License at\n",
        "#\n",
        "# https://www.apache.org/licenses/LICENSE-2.0\n",
        "#\n",
        "# Unless required by applicable law or agreed to in writing, software\n",
        "# distributed under the License is distributed on an \"AS IS\" BASIS,\n",
        "# WITHOUT WARRANTIES OR CONDITIONS OF ANY KIND, either express or implied.\n",
        "# See the License for the specific language governing permissions and\n",
        "# limitations under the License."
      ],
      "execution_count": null,
      "outputs": []
    },
    {
      "cell_type": "code",
      "source": [
        "%%file requirements.txt\n",
        "google-auth"
      ],
      "metadata": {
        "id": "A5ROzd2ebr4J"
      },
      "execution_count": null,
      "outputs": []
    },
    {
      "cell_type": "code",
      "execution_count": null,
      "metadata": {
        "id": "YHxNx-J6W4j3"
      },
      "outputs": [],
      "source": [
        "%%capture\n",
        "!pip install -r requirements.txt"
      ]
    },
    {
      "cell_type": "code",
      "source": [
        "%%writefile main.py\n",
        "from markupsafe import escape\n",
        "import google.auth\n",
        "\n",
        "credentials, project_id = google.auth.default();\n",
        "\n",
        "def hello_http(request):\n",
        "    \"\"\"HTTP Cloud Function.\n",
        "    Args:\n",
        "        request (flask.Request): The request object.\n",
        "        <https://flask.palletsprojects.com/en/1.1.x/api/#incoming-request-data>\n",
        "    Returns:\n",
        "        The response text, or any set of values that can be turned into a\n",
        "        Response object using `make_response`\n",
        "        <https://flask.palletsprojects.com/en/1.1.x/api/#flask.make_response>.\n",
        "    \"\"\"\n",
        "    request_json = request.get_json(silent=True)\n",
        "    request_args = request.args\n",
        "\n",
        "    if request_json and \"name\" in request_json:\n",
        "        name = request_json[\"name\"]\n",
        "    elif request_args and \"name\" in request_args:\n",
        "        name = request_args[\"name\"]\n",
        "    else:\n",
        "        name = \"World\"\n",
        "    return f\"Heya {escape(name)}, I'm a function running on projects/{project_id or 'unknown'}!\""
      ],
      "metadata": {
        "id": "8YRASZQaXJ8a"
      },
      "execution_count": null,
      "outputs": []
    },
    {
      "cell_type": "code",
      "source": [
        "import json\n",
        "import importlib\n",
        "import main\n",
        "importlib.reload(main) # Force reload of the main file.\n",
        "from flask import Request\n",
        "\n",
        "from google.colab import auth\n",
        "PROJECT_ID = \"mdewitt-earthengine\" # @param {\"type\":\"string\"}\n",
        "auth.authenticate_user(project_id=PROJECT_ID)\n",
        "\n",
        "data = {\n",
        "    \"name\": \"Michael\",\n",
        "}\n",
        "\n",
        "request = Request.from_values(\n",
        "    headers={'Content-Type': 'application/json'},\n",
        "    data=json.dumps(data),\n",
        "    method=\"POST\")\n",
        "\n",
        "print(main.hello_http(request))"
      ],
      "metadata": {
        "id": "uzkU9Y_VXqo-"
      },
      "execution_count": null,
      "outputs": []
    },
    {
      "cell_type": "code",
      "source": [
        "!gcloud functions deploy hello_http --runtime python312 --trigger-http\\\n",
        "  --allow-unauthenticated\\\n",
        "  --project $PROJECT_ID"
      ],
      "metadata": {
        "id": "DWz_IdaPYOEp"
      },
      "execution_count": null,
      "outputs": []
    }
  ]
}