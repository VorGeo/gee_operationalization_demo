{
  "nbformat": 4,
  "nbformat_minor": 0,
  "metadata": {
    "colab": {
      "provenance": []
    },
    "kernelspec": {
      "name": "python3",
      "display_name": "Python 3"
    },
    "language_info": {
      "name": "python"
    }
  },
  "cells": [
    {
      "cell_type": "code",
      "metadata": {
        "id": "fSIfBsgi8dNK"
      },
      "source": [
        "#@title Copyright 2024 Google LLC. { display-mode: \"form\" }\n",
        "# Licensed under the Apache License, Version 2.0 (the \"License\");\n",
        "# you may not use this file except in compliance with the License.\n",
        "# You may obtain a copy of the License at\n",
        "#\n",
        "# https://www.apache.org/licenses/LICENSE-2.0\n",
        "#\n",
        "# Unless required by applicable law or agreed to in writing, software\n",
        "# distributed under the License is distributed on an \"AS IS\" BASIS,\n",
        "# WITHOUT WARRANTIES OR CONDITIONS OF ANY KIND, either express or implied.\n",
        "# See the License for the specific language governing permissions and\n",
        "# limitations under the License."
      ],
      "execution_count": null,
      "outputs": []
    },
    {
      "cell_type": "markdown",
      "source": [
        "# Summary\n",
        "\n",
        "This notebook demonstrates how to define, test, and deploy a Cloud Function."
      ],
      "metadata": {
        "id": "uyfiUlsH6Rye"
      }
    },
    {
      "cell_type": "markdown",
      "source": [
        "# Setup\n",
        "\n",
        "## Install Python packages\n",
        "\n",
        "Uses the IPython magic [%%writefile](https://ipython.org/ipython-doc/3/interactive/magics.html#cellmagic-writefile) to create a file with names of the Python packages that will be installed."
      ],
      "metadata": {
        "id": "hc81_x9i6BFQ"
      }
    },
    {
      "cell_type": "code",
      "source": [
        "%%writefile requirements.txt\n",
        "google-auth"
      ],
      "metadata": {
        "id": "A5ROzd2ebr4J",
        "outputId": "b7fb28ec-bb97-446f-d363-eab280a32384",
        "colab": {
          "base_uri": "https://localhost:8080/"
        }
      },
      "execution_count": null,
      "outputs": [
        {
          "output_type": "stream",
          "name": "stdout",
          "text": [
            "Writing requirements.txt\n"
          ]
        }
      ]
    },
    {
      "cell_type": "markdown",
      "source": [
        "Use the [pip](https://packaging.python.org/en/latest/key_projects/#pip) package installer to install Python packages in the Colab kernel."
      ],
      "metadata": {
        "id": "WyJJhl8O6mb9"
      }
    },
    {
      "cell_type": "code",
      "execution_count": null,
      "metadata": {
        "id": "YHxNx-J6W4j3"
      },
      "outputs": [],
      "source": [
        "%%capture\n",
        "!pip install -r requirements.txt"
      ]
    },
    {
      "cell_type": "markdown",
      "source": [
        "## Read Secrets\n",
        "\n",
        "In order to avoid sharing user-specific information in the notebook, save the GCP project ID as a **Colab secret** named `EE_PROJECT_ID` before running the following cell. See [this guide](https://medium.com/@parthdasawant/how-to-use-secrets-in-google-colab-450c38e3ec75) for information on how to use Colab secrets.\n",
        "\n",
        "Note that you will need to grant access to Colab Secrets when this notebook is run."
      ],
      "metadata": {
        "id": "0pHQx8l6Ub4o"
      }
    },
    {
      "cell_type": "code",
      "source": [
        "from google.colab import userdata\n",
        "\n",
        "EE_PROJECT_ID = userdata.get('EE_PROJECT_ID')"
      ],
      "metadata": {
        "id": "hfkkJ2eHUjMQ"
      },
      "execution_count": null,
      "outputs": []
    },
    {
      "cell_type": "markdown",
      "source": [
        "# Define\n",
        "\n",
        "Create a [Cloud Function definition file](https://cloud.google.com/functions/docs/writing#directory-structure-python) (`main.py`) with a function [entry point](https://cloud.google.com/functions/docs/writing#entry-point) (`hello_http()`):"
      ],
      "metadata": {
        "id": "2zDOrrbx8YcY"
      }
    },
    {
      "cell_type": "code",
      "source": [
        "%%writefile main.py\n",
        "from markupsafe import escape\n",
        "import google.auth\n",
        "\n",
        "credentials, project_id = google.auth.default();\n",
        "\n",
        "def hello_http(request):\n",
        "    \"\"\"HTTP Cloud Function.\n",
        "    Args:\n",
        "        request (flask.Request): The request object.\n",
        "        <https://flask.palletsprojects.com/en/1.1.x/api/#incoming-request-data>\n",
        "    Returns:\n",
        "        The response text, or any set of values that can be turned into a\n",
        "        Response object using `make_response`\n",
        "        <https://flask.palletsprojects.com/en/1.1.x/api/#flask.make_response>.\n",
        "    \"\"\"\n",
        "    request_json = request.get_json(silent=True)\n",
        "    request_args = request.args\n",
        "\n",
        "    if request_json and \"name\" in request_json:\n",
        "        name = request_json[\"name\"]\n",
        "    elif request_args and \"name\" in request_args:\n",
        "        name = request_args[\"name\"]\n",
        "    else:\n",
        "        name = \"World\"\n",
        "    return f\"Heya {escape(name)}, I'm a function running on projects/{project_id or 'unknown'}!\""
      ],
      "metadata": {
        "id": "8YRASZQaXJ8a",
        "outputId": "7eb5cc46-d303-4ee4-b8dc-6d2948ba10f7",
        "colab": {
          "base_uri": "https://localhost:8080/"
        }
      },
      "execution_count": null,
      "outputs": [
        {
          "output_type": "stream",
          "name": "stdout",
          "text": [
            "Overwriting main.py\n"
          ]
        }
      ]
    },
    {
      "cell_type": "markdown",
      "source": [
        "# Test\n",
        "\n",
        "Test out the cloud function locally."
      ],
      "metadata": {
        "id": "AMKZv2qrTSj6"
      }
    },
    {
      "cell_type": "code",
      "source": [
        "import json\n",
        "import importlib\n",
        "import main\n",
        "importlib.reload(main) # Force reload of the main file.\n",
        "from flask import Request\n",
        "\n",
        "from google.colab import auth\n",
        "auth.authenticate_user(project_id=EE_PROJECT_ID)\n",
        "\n",
        "data = {\n",
        "    \"name\": \"Michael\",\n",
        "}\n",
        "\n",
        "request = Request.from_values(\n",
        "    headers={'Content-Type': 'application/json'},\n",
        "    data=json.dumps(data),\n",
        "    method=\"POST\")\n",
        "\n",
        "print(main.hello_http(request))"
      ],
      "metadata": {
        "id": "uzkU9Y_VXqo-",
        "outputId": "4a1ba581-06f4-4193-f7d8-982016e23fde",
        "colab": {
          "base_uri": "https://localhost:8080/"
        }
      },
      "execution_count": null,
      "outputs": [
        {
          "output_type": "stream",
          "name": "stdout",
          "text": [
            "Heya Michael, I'm a function running on projects/ee-vorgeo-issues!\n"
          ]
        }
      ]
    },
    {
      "cell_type": "markdown",
      "source": [
        "# Deploy\n",
        "\n",
        "Once the function is working locally, deploy the function to Google Cloud."
      ],
      "metadata": {
        "id": "Qag1O7HhTn_g"
      }
    },
    {
      "cell_type": "code",
      "source": [
        "!gcloud functions deploy hello_http \\\n",
        "  --runtime python312 \\\n",
        "  --trigger-http \\\n",
        "  --allow-unauthenticated \\\n",
        "  --project $EE_PROJECT_ID"
      ],
      "metadata": {
        "id": "DWz_IdaPYOEp",
        "outputId": "7388da17-fca7-4158-cae3-c18287d1c294",
        "colab": {
          "base_uri": "https://localhost:8080/"
        }
      },
      "execution_count": null,
      "outputs": [
        {
          "output_type": "stream",
          "name": "stdout",
          "text": [
            "  [WARNING] Cloud Run service projects/vorgeo-training/locations/us-central1/services/hello-http for the function was not found. The service was redeployed with default values.\n",
            "You can view your function in the Cloud Console here: https://console.cloud.google.com/functions/details/us-central1/hello_http?project=vorgeo-training\n",
            "\n",
            "buildConfig:\n",
            "  automaticUpdatePolicy: {}\n",
            "  build: projects/188589653813/locations/us-central1/builds/4b8732cf-9889-4fbb-a7cd-e91b1741d0a2\n",
            "  dockerRegistry: ARTIFACT_REGISTRY\n",
            "  dockerRepository: projects/vorgeo-training/locations/us-central1/repositories/gcf-artifacts\n",
            "  entryPoint: hello_http\n",
            "  runtime: python312\n",
            "  serviceAccount: projects/vorgeo-training/serviceAccounts/188589653813-compute@developer.gserviceaccount.com\n",
            "  source:\n",
            "    storageSource:\n",
            "      bucket: gcf-v2-sources-188589653813-us-central1\n",
            "      generation: '1742572806853979'\n",
            "      object: hello_http/function-source.zip\n",
            "  sourceProvenance:\n",
            "    resolvedStorageSource:\n",
            "      bucket: gcf-v2-sources-188589653813-us-central1\n",
            "      generation: '1742572806853979'\n",
            "      object: hello_http/function-source.zip\n",
            "createTime: '2025-03-21T15:59:20.969933409Z'\n",
            "environment: GEN_2\n",
            "labels:\n",
            "  deployment-tool: cli-gcloud\n",
            "name: projects/vorgeo-training/locations/us-central1/functions/hello_http\n",
            "satisfiesPzi: true\n",
            "serviceConfig:\n",
            "  allTrafficOnLatestRevision: true\n",
            "  availableCpu: '0.1666'\n",
            "  availableMemory: 256M\n",
            "  environmentVariables:\n",
            "    LOG_EXECUTION_ID: 'true'\n",
            "  ingressSettings: ALLOW_ALL\n",
            "  maxInstanceCount: 100\n",
            "  maxInstanceRequestConcurrency: 1\n",
            "  revision: hello-http-00001-xim\n",
            "  service: projects/vorgeo-training/locations/us-central1/services/hello-http\n",
            "  serviceAccountEmail: 188589653813-compute@developer.gserviceaccount.com\n",
            "  timeoutSeconds: 60\n",
            "  uri: https://hello-http-zrbecxkyhq-uc.a.run.app\n",
            "state: ACTIVE\n",
            "updateTime: '2025-03-21T16:00:59.495210288Z'\n",
            "url: https://us-central1-vorgeo-training.cloudfunctions.net/hello_http\n"
          ]
        }
      ]
    },
    {
      "cell_type": "code",
      "source": [],
      "metadata": {
        "id": "crKPsH6kZ5SA"
      },
      "execution_count": null,
      "outputs": []
    }
  ]
}