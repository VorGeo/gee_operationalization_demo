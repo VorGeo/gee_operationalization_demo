{
  "nbformat": 4,
  "nbformat_minor": 0,
  "metadata": {
    "colab": {
      "provenance": []
    },
    "kernelspec": {
      "name": "python3",
      "display_name": "Python 3"
    },
    "language_info": {
      "name": "python"
    }
  },
  "cells": [
    {
      "cell_type": "code",
      "metadata": {
        "id": "fSIfBsgi8dNK"
      },
      "source": [
        "#@title Copyright 2024 Google LLC. { display-mode: \"form\" }\n",
        "# Licensed under the Apache License, Version 2.0 (the \"License\");\n",
        "# you may not use this file except in compliance with the License.\n",
        "# You may obtain a copy of the License at\n",
        "#\n",
        "# https://www.apache.org/licenses/LICENSE-2.0\n",
        "#\n",
        "# Unless required by applicable law or agreed to in writing, software\n",
        "# distributed under the License is distributed on an \"AS IS\" BASIS,\n",
        "# WITHOUT WARRANTIES OR CONDITIONS OF ANY KIND, either express or implied.\n",
        "# See the License for the specific language governing permissions and\n",
        "# limitations under the License."
      ],
      "execution_count": null,
      "outputs": []
    },
    {
      "cell_type": "code",
      "source": [
        "%%writefile requirements.txt\n",
        "gdacs-api\n",
        "google-cloud-pubsub\n",
        "google-auth"
      ],
      "metadata": {
        "colab": {
          "base_uri": "https://localhost:8080/"
        },
        "id": "VIRGsBUdc_lR",
        "outputId": "41a438a5-807e-4eb8-fbe9-78aa47e579c9"
      },
      "execution_count": null,
      "outputs": [
        {
          "output_type": "stream",
          "name": "stdout",
          "text": [
            "Writing requirements.txt\n"
          ]
        }
      ]
    },
    {
      "cell_type": "code",
      "execution_count": null,
      "metadata": {
        "id": "qYaPbLBSVw3q"
      },
      "outputs": [],
      "source": [
        "%%capture\n",
        "!pip install -r requirements.txt"
      ]
    },
    {
      "cell_type": "code",
      "source": [
        "%%writefile main.py\n",
        "\n",
        "from gdacs.api import GDACSAPIReader\n",
        "from google.cloud import pubsub_v1\n",
        "import base64\n",
        "import google.auth\n",
        "import json\n",
        "import logging\n",
        "\n",
        "# Set up auth.\n",
        "credentials, project_id = google.auth.default()\n",
        "\n",
        "# Instantiates a Pub/Sub client\n",
        "publisher = pubsub_v1.PublisherClient()\n",
        "\n",
        "# Publishes a message to a Cloud Pub/Sub topic.\n",
        "def publish_events(request):\n",
        "    request_json = request.get_json(silent=True) or {}\n",
        "\n",
        "    client = GDACSAPIReader()\n",
        "    events = client.latest_events().features\n",
        "\n",
        "    # If true, don't publish, just log.\n",
        "    debug = request_json.get(\"debug\")\n",
        "    topic_name = 'brazil-fire-events' # @param {\"type\":\"string\"}\n",
        "\n",
        "    # References an existing topic\n",
        "    topic_path = publisher.topic_path(project_id, topic_name)\n",
        "\n",
        "    # Two styles of filtering. Add more!\n",
        "    brazil_events = filter(lambda event: any(country['countryname'] == 'Brazil' for country in event['properties']['affectedcountries']), events)\n",
        "    brazil_fire_events = [event for event in brazil_events if 'fire' in event['properties']['name']]\n",
        "\n",
        "    message_count = 0\n",
        "    for event in brazil_fire_events:\n",
        "      event_id = event['properties']['eventid']\n",
        "\n",
        "      message_json = json.dumps(event)\n",
        "      message_bytes = message_json.encode(\"utf-8\")\n",
        "\n",
        "      # Log the value and return.\n",
        "      if debug:\n",
        "        debug_message = f\"GDACS event ID {event_id}: {message_json}\"\n",
        "        print(debug_message)\n",
        "        logging.info(debug)\n",
        "        message_count += 1\n",
        "        continue\n",
        "\n",
        "      # Publishes a message\n",
        "      try:\n",
        "        publish_future = publisher.publish(topic_path, data=message_bytes)\n",
        "        publish_future.result()  # Verify the publish succeeded\n",
        "        message_count += 1\n",
        "        logging.info(f\"Message published for event {event_id}\")\n",
        "      except Exception as e:\n",
        "        logging.error(f\"Error publishing event {e}\")\n",
        "\n",
        "    print(f\"Published {message_count} messages.\")\n",
        "    return"
      ],
      "metadata": {
        "id": "pOg_KvYxWvbJ"
      },
      "execution_count": null,
      "outputs": []
    },
    {
      "cell_type": "code",
      "source": [
        "import json\n",
        "import importlib\n",
        "import main\n",
        "importlib.reload(main)\n",
        "from flask import Request\n",
        "\n",
        "from google.colab import auth\n",
        "PROJECT_ID = \"mdewitt-earthengine\" # @param {\"type\":\"string\"}\n",
        "auth.authenticate_user(project_id=PROJECT_ID)\n",
        "\n",
        "data = {\n",
        "    \"debug\": True\n",
        "}\n",
        "\n",
        "request = Request.from_values(\n",
        "    headers={'Content-Type': 'application/json'},\n",
        "    data=json.dumps(data),\n",
        "    method=\"POST\")\n",
        "\n",
        "print(main.publish_events(request))"
      ],
      "metadata": {
        "colab": {
          "base_uri": "https://localhost:8080/"
        },
        "id": "xPytV17kL9mD",
        "outputId": "2bd505ce-faa8-49ea-8bb7-fc340ae96389"
      },
      "execution_count": null,
      "outputs": [
        {
          "output_type": "stream",
          "name": "stdout",
          "text": [
            "Published 0 messages.\n"
          ]
        }
      ]
    },
    {
      "cell_type": "code",
      "source": [
        "!gcloud functions deploy publish_events --runtime python312\\\n",
        " --allow-unauthenticated\\\n",
        " --trigger-http\\\n",
        " --project $PROJECT_ID"
      ],
      "metadata": {
        "id": "yd_1Qz8McHaE"
      },
      "execution_count": null,
      "outputs": []
    }
  ]
}