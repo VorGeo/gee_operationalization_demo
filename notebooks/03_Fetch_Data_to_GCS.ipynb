{
  "nbformat": 4,
  "nbformat_minor": 0,
  "metadata": {
    "colab": {
      "provenance": []
    },
    "kernelspec": {
      "name": "python3",
      "display_name": "Python 3"
    },
    "language_info": {
      "name": "python"
    }
  },
  "cells": [
    {
      "cell_type": "code",
      "metadata": {
        "id": "fSIfBsgi8dNK"
      },
      "source": [
        "#@title Copyright 2024 Google LLC. { display-mode: \"form\" }\n",
        "# Licensed under the Apache License, Version 2.0 (the \"License\");\n",
        "# you may not use this file except in compliance with the License.\n",
        "# You may obtain a copy of the License at\n",
        "#\n",
        "# https://www.apache.org/licenses/LICENSE-2.0\n",
        "#\n",
        "# Unless required by applicable law or agreed to in writing, software\n",
        "# distributed under the License is distributed on an \"AS IS\" BASIS,\n",
        "# WITHOUT WARRANTIES OR CONDITIONS OF ANY KIND, either express or implied.\n",
        "# See the License for the specific language governing permissions and\n",
        "# limitations under the License."
      ],
      "execution_count": null,
      "outputs": []
    },
    {
      "cell_type": "code",
      "source": [
        "%%file requirements.txt\n",
        "google-auth\n",
        "google-cloud-storage\n",
        "functions-framework"
      ],
      "metadata": {
        "colab": {
          "base_uri": "https://localhost:8080/"
        },
        "id": "aI_ncYHXkgwS",
        "outputId": "1fa3a762-f5a0-49a2-8295-91947384203e"
      },
      "execution_count": null,
      "outputs": [
        {
          "output_type": "stream",
          "name": "stdout",
          "text": [
            "Writing requirements.txt\n"
          ]
        }
      ]
    },
    {
      "cell_type": "code",
      "source": [
        "%%capture\n",
        "!pip install -r requirements.txt"
      ],
      "metadata": {
        "id": "SzDx1JqAk0i_"
      },
      "execution_count": null,
      "outputs": []
    },
    {
      "cell_type": "code",
      "source": [
        "%%writefile main.py\n",
        "from google.cloud import storage\n",
        "from google.cloud.storage.fileio import BlobWriter\n",
        "from markupsafe import escape\n",
        "import base64\n",
        "import functions_framework\n",
        "import google.auth\n",
        "import io\n",
        "import json\n",
        "import requests\n",
        "import urllib\n",
        "\n",
        "credentials, project_id = google.auth.default()\n",
        "email = 'mdewitt@google.com'\n",
        "\n",
        "@functions_framework.cloud_event\n",
        "def fetch_data_to_gcs(cloud_event):\n",
        "  event_data = cloud_event.data['message']['data']\n",
        "  print(f\"Working with event: {event_data}\")\n",
        "  decoded_str = base64.b64decode(event_data).decode('utf-8')\n",
        "  message = json.loads(decoded_str)\n",
        "\n",
        "  source_url = message['source_url'] + f\"?email={email}\"\n",
        "  bucket_name = message['dest_bucket']\n",
        "  dest_path = message['dest_path']\n",
        "  print(f\"Downloading from {source_url} to gs://{bucket_name}/{dest_path}\")\n",
        "\n",
        "  return download_file(source_url, bucket_name, dest_path)\n",
        "\n",
        "def download_file(source_url, bucket_name, dest_path):\n",
        "  # Configure the storage client.\n",
        "  client = storage.Client(credentials=credentials, project=project_id)\n",
        "  bucket = client.get_bucket(bucket_name)\n",
        "  blob = bucket.blob(dest_path)\n",
        "  if blob.exists(client=client):\n",
        "    print(\"Blob already exists.\")\n",
        "    return \"OK\"\n",
        "\n",
        "  # Write a chunk at a time.\n",
        "  chunk_size = 40 * 1024 * 1024\n",
        "  total_size = 0\n",
        "  writer = BlobWriter(blob=blob, chunk_size=chunk_size)\n",
        "  with requests.get(source_url, stream=True) as r:\n",
        "    r.raise_for_status()\n",
        "    for chunk in r.iter_content(chunk_size=chunk_size):\n",
        "      total_size += writer.write(chunk)\n",
        "  writer.close()\n",
        "  print(f\"Wrote {total_size} bytes\")\n",
        "  return \"OK\""
      ],
      "metadata": {
        "colab": {
          "base_uri": "https://localhost:8080/"
        },
        "id": "ejGxDKf1koTl",
        "outputId": "597de607-e5f1-4b8f-b2ff-30228370f3f4"
      },
      "execution_count": null,
      "outputs": [
        {
          "output_type": "stream",
          "name": "stdout",
          "text": [
            "Overwriting main.py\n"
          ]
        }
      ]
    },
    {
      "cell_type": "code",
      "execution_count": null,
      "metadata": {
        "colab": {
          "base_uri": "https://localhost:8080/"
        },
        "id": "wfp8qV0Skdow",
        "outputId": "e9216024-c891-46f7-982a-05a3abd0a167"
      },
      "outputs": [
        {
          "output_type": "stream",
          "name": "stdout",
          "text": [
            "Working with event: eyJzb3VyY2VfdXJsIjogImh0dHA6Ly93d3cuZGdpLmlucGUuYnIvYXBpL2Rvd25sb2FkL1RJRkYvQ0JFUlM0QS8yMDI0XzA5L0NCRVJTXzRBX1dQTV9SQVdfMjAyNF8wOV8wMS4xM181NV8wN19FVEMyLzIxNF8xMzdfMC80X0JDX1VUTV9XR1M4NC9DQkVSU180QV9XUE1fMjAyNDA5MDFfMjE0XzEzN19MNF9CQU5ENC50aWYiLCAiZGVzdF9idWNrZXQiOiAiZWFydGhlbmdpbmVfdGVzdCIsICJkZXN0X3BhdGgiOiAiMjE0LzEzNy80X0JDX1VUTV9XR1M4NC9DQkVSU180QV9XUE1fMjAyNDA5MDFfMjE0XzEzN19MNF9CQU5ENC50aWYifQ==\n",
            "Downloading from http://www.dgi.inpe.br/api/download/TIFF/CBERS4A/2024_09/CBERS_4A_WPM_RAW_2024_09_01.13_55_07_ETC2/214_137_0/4_BC_UTM_WGS84/CBERS_4A_WPM_20240901_214_137_L4_BAND4.tif?email=mdewitt@google.com\n",
            "Downloading to 214/137/4_BC_UTM_WGS84/CBERS_4A_WPM_20240901_214_137_L4_BAND4.tif\n",
            "Blob already exists.\n",
            "OK\n"
          ]
        }
      ],
      "source": [
        "import json\n",
        "import importlib\n",
        "import main\n",
        "importlib.reload(main) # Force reload of the main file.\n",
        "from flask import Request\n",
        "from cloudevents.http import CloudEvent\n",
        "import base64\n",
        "\n",
        "from google.colab import auth\n",
        "PROJECT_ID = \"mdewitt-earthengine\"\n",
        "auth.authenticate_user(project_id=PROJECT_ID)\n",
        "\n",
        "attributes = {\n",
        "    \"type\": \"com.example.sampletype1\",\n",
        "    \"source\": \"https://example.com/event-producer\",\n",
        "}\n",
        "\n",
        "test_dict = {\n",
        "    'source_url': 'http://www.dgi.inpe.br/api/download/TIFF/CBERS4A/2024_07/CBERS_4A_MUX_RAW_2024_07_30.13_19_46_ETC2/202_142_0/2_BC_UTM_WGS84/CBERS_4A_MUX_20240730_202_142_L2_BAND5.tif',\n",
        "    'dest_bucket': 'earthengine_test',\n",
        "    'dest_path': '202/142/CBERS_4A_MUX_20240730_202_142_L2/CBERS_4A_MUX_20240730_202_142_L2_BAND5.tif'\n",
        "}\n",
        "\n",
        "data = {\n",
        "    'message': {\n",
        "        'data': base64.b64encode(json.dumps(test_dict).encode('utf-8'))\n",
        "  }\n",
        "}\n",
        "event = CloudEvent(attributes, data)\n",
        "\n",
        "print(main.fetch_data_to_gcs(event))"
      ]
    },
    {
      "cell_type": "code",
      "source": [
        "!gcloud config set functions/region us-east1\n",
        "!gcloud functions deploy fetch_data_to_gcs\\\n",
        "  --runtime python312\\\n",
        "  --trigger-topic=cbers-data-to-download\\\n",
        "  --project $PROJECT_ID\\\n",
        "  --timeout=540\\\n",
        "  --memory=1G\\\n",
        "  --gen2"
      ],
      "metadata": {
        "colab": {
          "base_uri": "https://localhost:8080/"
        },
        "id": "skwqz0mOobqY",
        "outputId": "49cd12bc-6ce3-4cb5-83b5-fd24cdcf9074"
      },
      "execution_count": null,
      "outputs": [
        {
          "output_type": "stream",
          "name": "stdout",
          "text": [
            "Updated property [functions/region].\n",
            "  [INFO] A new revision will be deployed serving with 100% traffic.\n",
            "You can view your function in the Cloud Console here: https://console.cloud.google.com/functions/details/us-east1/fetch_data_to_gcs?project=mdewitt-earthengine\n",
            "\n",
            "buildConfig:\n",
            "  automaticUpdatePolicy: {}\n",
            "  build: projects/303338009467/locations/us-east1/builds/48332120-dd9b-4fe1-bc3c-0a4da8fd4d55\n",
            "  dockerRegistry: ARTIFACT_REGISTRY\n",
            "  dockerRepository: projects/mdewitt-earthengine/locations/us-east1/repositories/gcf-artifacts\n",
            "  entryPoint: fetch_data_to_gcs\n",
            "  runtime: python312\n",
            "  source:\n",
            "    storageSource:\n",
            "      bucket: gcf-v2-sources-303338009467-us-east1\n",
            "      generation: '1725892486062117'\n",
            "      object: fetch_data_to_gcs/function-source.zip\n",
            "  sourceProvenance:\n",
            "    resolvedStorageSource:\n",
            "      bucket: gcf-v2-sources-303338009467-us-east1\n",
            "      generation: '1725892486062117'\n",
            "      object: fetch_data_to_gcs/function-source.zip\n",
            "createTime: '2024-09-09T14:01:27.392784696Z'\n",
            "environment: GEN_2\n",
            "eventTrigger:\n",
            "  eventType: google.cloud.pubsub.topic.v1.messagePublished\n",
            "  pubsubTopic: projects/mdewitt-earthengine/topics/cbers-data-to-download\n",
            "  retryPolicy: RETRY_POLICY_DO_NOT_RETRY\n",
            "  serviceAccountEmail: 303338009467-compute@developer.gserviceaccount.com\n",
            "  trigger: projects/mdewitt-earthengine/locations/us-east1/triggers/fetch-data-to-gcs-429455\n",
            "  triggerRegion: us-east1\n",
            "labels:\n",
            "  deployment-tool: cli-gcloud\n",
            "name: projects/mdewitt-earthengine/locations/us-east1/functions/fetch_data_to_gcs\n",
            "serviceConfig:\n",
            "  allTrafficOnLatestRevision: true\n",
            "  availableCpu: '0.5833'\n",
            "  availableMemory: 1G\n",
            "  environmentVariables:\n",
            "    LOG_EXECUTION_ID: 'true'\n",
            "  ingressSettings: ALLOW_ALL\n",
            "  maxInstanceCount: 100\n",
            "  maxInstanceRequestConcurrency: 1\n",
            "  revision: fetch-data-to-gcs-00009-siv\n",
            "  service: projects/mdewitt-earthengine/locations/us-east1/services/fetch-data-to-gcs\n",
            "  serviceAccountEmail: 303338009467-compute@developer.gserviceaccount.com\n",
            "  timeoutSeconds: 540\n",
            "  uri: https://fetch-data-to-gcs-u4mr3bzqfa-ue.a.run.app\n",
            "state: ACTIVE\n",
            "updateTime: '2024-09-09T14:35:32.301400847Z'\n",
            "url: https://us-east1-mdewitt-earthengine.cloudfunctions.net/fetch_data_to_gcs\n"
          ]
        }
      ]
    }
  ]
}