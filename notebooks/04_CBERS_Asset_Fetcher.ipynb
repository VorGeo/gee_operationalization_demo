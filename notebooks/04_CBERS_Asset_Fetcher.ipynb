{
  "nbformat": 4,
  "nbformat_minor": 0,
  "metadata": {
    "colab": {
      "provenance": []
    },
    "kernelspec": {
      "name": "python3",
      "display_name": "Python 3"
    },
    "language_info": {
      "name": "python"
    }
  },
  "cells": [
    {
      "cell_type": "code",
      "metadata": {
        "id": "fSIfBsgi8dNK"
      },
      "source": [
        "#@title Copyright 2024 Google LLC. { display-mode: \"form\" }\n",
        "# Licensed under the Apache License, Version 2.0 (the \"License\");\n",
        "# you may not use this file except in compliance with the License.\n",
        "# You may obtain a copy of the License at\n",
        "#\n",
        "# https://www.apache.org/licenses/LICENSE-2.0\n",
        "#\n",
        "# Unless required by applicable law or agreed to in writing, software\n",
        "# distributed under the License is distributed on an \"AS IS\" BASIS,\n",
        "# WITHOUT WARRANTIES OR CONDITIONS OF ANY KIND, either express or implied.\n",
        "# See the License for the specific language governing permissions and\n",
        "# limitations under the License."
      ],
      "execution_count": null,
      "outputs": []
    },
    {
      "cell_type": "code",
      "source": [
        "%%file requirements.txt\n",
        "google-auth\n",
        "google-cloud-storage\n",
        "functions-framework\n",
        "google-cloud-pubsub\n",
        "cbers4asat"
      ],
      "metadata": {
        "id": "A5ROzd2ebr4J"
      },
      "execution_count": null,
      "outputs": []
    },
    {
      "cell_type": "code",
      "execution_count": null,
      "metadata": {
        "id": "YHxNx-J6W4j3"
      },
      "outputs": [],
      "source": [
        "%%capture\n",
        "!pip install -r requirements.txt"
      ]
    },
    {
      "cell_type": "code",
      "source": [
        "%%writefile main.py\n",
        "import functions_framework\n",
        "import google.auth\n",
        "import io\n",
        "import requests\n",
        "import urllib\n",
        "import json\n",
        "import base64\n",
        "\n",
        "from cbers4asat import Cbers4aAPI\n",
        "from datetime import datetime\n",
        "from datetime import timedelta\n",
        "\n",
        "from google.cloud import pubsub_v1\n",
        "\n",
        "import urllib\n",
        "import google.auth.transport.requests\n",
        "import google.oauth2.id_token\n",
        "\n",
        "from urllib.parse import urlparse\n",
        "from urllib.parse import urlunparse\n",
        "import pathlib\n",
        "import logging\n",
        "import re\n",
        "\n",
        "credentials, project_id = google.auth.default();\n",
        "\n",
        "bucket = \"earthengine-test\" # @param {\"type\":\"string\"}\n",
        "email = \"mdewitt@google.com\" # @param {\"type\":\"string\"}\n",
        "api = Cbers4aAPI(email)\n",
        "\n",
        "# Instantiates a Pub/Sub client\n",
        "publisher = pubsub_v1.PublisherClient()\n",
        "\n",
        "@functions_framework.cloud_event\n",
        "def fetch_data_for_event(cloud_event):\n",
        "  event_data = cloud_event.data['message']['data']\n",
        "  print(f\"Working with event: {event_data}\")\n",
        "  decoded_str = base64.b64decode(event_data).decode('utf-8')\n",
        "  message = json.loads(decoded_str)\n",
        "  properties = message['properties']\n",
        "  print(trigger_downloads(\n",
        "      message['bbox'],\n",
        "      properties['fromdate'],\n",
        "      properties['todate']))\n",
        "\n",
        "def trigger_downloads(bounding_box, time_start, time_end):\n",
        "  time_start = datetime.fromisoformat(time_start)\n",
        "  time_end = datetime.fromisoformat(time_end)\n",
        "\n",
        "  topic_name = 'cbers-data-to-download' # @param {\"type\":\"string\"}\n",
        "  # References an existing topic\n",
        "  topic_path = publisher.topic_path(project_id, topic_name)\n",
        "\n",
        "  # Example from https://github.com/gabriel-russo/cbers4asat.\n",
        "\n",
        "  time_window = timedelta(days=7)\n",
        "  result_collection = api.query(location=bounding_box,\n",
        "                      initial_date=time_start - time_window,\n",
        "                      end_date=time_end + time_window,\n",
        "                      cloud=100,\n",
        "                      limit=10,\n",
        "                      collections=['CBERS4A_MUX_L2_DN'])\n",
        "  features = result_collection['features']\n",
        "  for feature in features:\n",
        "    for asset in feature['assets']:\n",
        "      asset_url = feature['assets'][asset]['href']\n",
        "      properties = feature['properties']\n",
        "\n",
        "      # Get the last part of the URL as the filename.\n",
        "      parsed = urlparse(asset_url)\n",
        "      asset_path = pathlib.Path(parsed.path)\n",
        "\n",
        "      path = properties['path']\n",
        "      row = properties['row']\n",
        "      im_name = re.sub('_BAND\\d+$', '', asset_path.stem)\n",
        "      dest_path = f\"{path}/{row}/{im_name}/{asset_path.name}\"\n",
        "      data = {\n",
        "          'source_url': asset_url,\n",
        "          'dest_bucket': bucket,\n",
        "          'dest_path': dest_path\n",
        "      }\n",
        "      print(data)\n",
        "      message_data = json.dumps(data).encode('utf-8')\n",
        "      # Publishes a message\n",
        "      try:\n",
        "        publish_future = publisher.publish(topic_path, data=message_data)\n",
        "        publish_future.result()  # Verify the publish succeeded\n",
        "      except Exception as e:\n",
        "        logging.error(f\"Error publishing event {e}\")\n",
        "\n",
        "  print(f\"Triggered {len(features)} image downloads\")"
      ],
      "metadata": {
        "id": "8YRASZQaXJ8a",
        "colab": {
          "base_uri": "https://localhost:8080/"
        },
        "outputId": "2334d935-d904-4b9f-84f3-92389e73d393"
      },
      "execution_count": null,
      "outputs": [
        {
          "output_type": "stream",
          "name": "stdout",
          "text": [
            "Overwriting main.py\n"
          ]
        }
      ]
    },
    {
      "cell_type": "code",
      "source": [
        "import main\n",
        "import importlib\n",
        "importlib.reload(main) # Force reload of the main file.\n",
        "\n",
        "from google.colab import auth\n",
        "from cloudevents.http import CloudEvent\n",
        "\n",
        "PROJECT_ID = \"mdewitt-earthengine\" # @param {\"type\":\"string\"}\n",
        "auth.authenticate_user(project_id=PROJECT_ID)\n",
        "\n",
        "attributes = {\n",
        "    \"type\": \"com.example.sampletype1\",\n",
        "    \"source\": \"https://example.com/event-producer\",\n",
        "}\n",
        "properties = {\n",
        "    'bbox': [-46.702, -23.577, -46.676, -23.595],\n",
        "    'properties': {\n",
        "        'fromdate': '2024-08-01',\n",
        "        'todate': '2024-09-11',\n",
        "    }\n",
        "}\n",
        "encoded_properties = base64.b64encode(json.dumps(properties).encode('utf-8'))\n",
        "data = {'message': {'data': encoded_properties}}\n",
        "event = CloudEvent(attributes, data)\n",
        "\n",
        "print(main.fetch_data_for_event(event))"
      ],
      "metadata": {
        "id": "uzkU9Y_VXqo-"
      },
      "execution_count": null,
      "outputs": []
    },
    {
      "cell_type": "code",
      "source": [
        "!gcloud config set functions/region us-east1\n",
        "!gcloud functions deploy fetch_data_for_event\\\n",
        "  --runtime python312\\\n",
        "  --trigger-topic=brazil-fire-events\\\n",
        "  --project $PROJECT_ID\\\n",
        "  --gen2"
      ],
      "metadata": {
        "id": "DWz_IdaPYOEp"
      },
      "execution_count": null,
      "outputs": []
    }
  ]
}